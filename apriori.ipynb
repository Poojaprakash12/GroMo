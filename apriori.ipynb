{
 "cells": [
  {
   "cell_type": "code",
   "execution_count": 3,
   "id": "583dc664",
   "metadata": {},
   "outputs": [
    {
     "name": "stdout",
     "output_type": "stream",
     "text": [
      "                  antecedents         consequents  antecedent support  \\\n",
      "0            (Bike Insurance)     (Car Insurance)                 0.2   \n",
      "1             (Car Insurance)    (Bike Insurance)                 0.2   \n",
      "3            (Bike Insurance)       (Credit Card)                 0.2   \n",
      "5            (Bike Insurance)              (Loan)                 0.2   \n",
      "7             (Car Insurance)       (Credit Card)                 0.2   \n",
      "17                     (Loan)       (Credit Card)                 0.8   \n",
      "11            (Demat Account)       (Credit Card)                 0.4   \n",
      "9             (Car Insurance)              (Loan)                 0.2   \n",
      "32  (Personal Accident Cover)  (Health Insurance)                 0.2   \n",
      "29         (Health Insurance)    (Life Insurance)                 0.4   \n",
      "\n",
      "    consequent support  support  confidence  lift  representativity  leverage  \\\n",
      "0                  0.2      0.2         1.0  5.00               1.0      0.16   \n",
      "1                  0.2      0.2         1.0  5.00               1.0      0.16   \n",
      "3                  0.8      0.2         1.0  1.25               1.0      0.04   \n",
      "5                  0.8      0.2         1.0  1.25               1.0      0.04   \n",
      "7                  0.8      0.2         1.0  1.25               1.0      0.04   \n",
      "17                 0.8      0.8         1.0  1.25               1.0      0.16   \n",
      "11                 0.8      0.4         1.0  1.25               1.0      0.08   \n",
      "9                  0.8      0.2         1.0  1.25               1.0      0.04   \n",
      "32                 0.4      0.2         1.0  2.50               1.0      0.12   \n",
      "29                 0.4      0.4         1.0  2.50               1.0      0.24   \n",
      "\n",
      "    conviction  zhangs_metric  jaccard  certainty  kulczynski  \n",
      "0          inf       1.000000     1.00        1.0       1.000  \n",
      "1          inf       1.000000     1.00        1.0       1.000  \n",
      "3          inf       0.250000     0.25        1.0       0.625  \n",
      "5          inf       0.250000     0.25        1.0       0.625  \n",
      "7          inf       0.250000     0.25        1.0       0.625  \n",
      "17         inf       1.000000     1.00        1.0       1.000  \n",
      "11         inf       0.333333     0.50        1.0       0.750  \n",
      "9          inf       0.250000     0.25        1.0       0.625  \n",
      "32         inf       0.750000     0.50        1.0       0.750  \n",
      "29         inf       1.000000     1.00        1.0       1.000  \n"
     ]
    }
   ],
   "source": [
    "import pandas as pd\n",
    "import ast\n",
    "from mlxtend.preprocessing import TransactionEncoder\n",
    "from mlxtend.frequent_patterns import apriori, association_rules\n",
    "\n",
    "# Load your CSV\n",
    "df = pd.read_csv(\"product_relation_dataset.csv\")\n",
    "\n",
    "# Convert AdditionalProducts string representation to list\n",
    "df['AdditionalProducts'] = df['AdditionalProducts'].apply(ast.literal_eval)\n",
    "\n",
    "# Combine MainProduct and AdditionalProducts into one list per row (one transaction)\n",
    "df['Products'] = df.apply(lambda row: [row['MainProduct']] + row['AdditionalProducts'], axis=1)\n",
    "\n",
    "# Encode transactions for apriori\n",
    "te = TransactionEncoder()\n",
    "te_ary = te.fit(df['Products']).transform(df['Products'])\n",
    "df_trans = pd.DataFrame(te_ary, columns=te.columns_)\n",
    "\n",
    "# Generate frequent itemsets\n",
    "frequent_itemsets = apriori(df_trans, min_support=0.01, use_colnames=True)\n",
    "\n",
    "# Generate association rules\n",
    "rules = association_rules(frequent_itemsets, metric=\"confidence\", min_threshold=0.1)\n",
    "\n",
    "# Filter strong rules by lift and leverage\n",
    "strong_rules = rules[(rules['lift'] > 1.0) & (rules['leverage'] > 0)]\n",
    "strong_rules = strong_rules.sort_values(by=['lift', 'confidence'], ascending=False)\n",
    "\n",
    "# Show top 10 rules sorted by confidence\n",
    "print(rules.sort_values(by=\"confidence\", ascending=False).head(10))\n"
   ]
  }
 ],
 "metadata": {
  "kernelspec": {
   "display_name": "ml_env",
   "language": "python",
   "name": "python3"
  },
  "language_info": {
   "codemirror_mode": {
    "name": "ipython",
    "version": 3
   },
   "file_extension": ".py",
   "mimetype": "text/x-python",
   "name": "python",
   "nbconvert_exporter": "python",
   "pygments_lexer": "ipython3",
   "version": "3.10.11"
  }
 },
 "nbformat": 4,
 "nbformat_minor": 5
}
