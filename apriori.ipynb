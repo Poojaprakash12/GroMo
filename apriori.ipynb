{
 "cells": [
  {
   "cell_type": "code",
   "execution_count": null,
   "id": "583dc664",
   "metadata": {},
   "outputs": [],
   "source": [
    "import pandas as pd\n",
    "import ast\n",
    "from mlxtend.preprocessing import TransactionEncoder\n",
    "from mlxtend.frequent_patterns import apriori, association_rules\n",
    "\n",
    "# Load the CSV\n",
    "df = pd.read_csv(\"association_transactions.csv\")\n",
    "\n",
    "# Convert string to list\n",
    "df['Products'] = df['Products'].apply(ast.literal_eval)\n",
    "\n",
    "# Encode transactions\n",
    "te = TransactionEncoder()\n",
    "te_ary = te.fit(df['Products']).transform(df['Products'])\n",
    "df_trans = pd.DataFrame(te_ary, columns=te.columns_)\n",
    "\n",
    "# Generate frequent itemsets\n",
    "frequent_itemsets = apriori(df_trans, min_support=0.1, use_colnames=True)\n",
    "\n",
    "# Generate association rules\n",
    "rules = association_rules(frequent_itemsets, metric=\"lift\", min_threshold=1.0)\n",
    "\n",
    "# Show top 5 rules\n",
    "print(rules.sort_values(by=\"confidence\", ascending=False).head())\n"
   ]
  }
 ],
 "metadata": {
  "language_info": {
   "name": "python"
  }
 },
 "nbformat": 4,
 "nbformat_minor": 5
}
