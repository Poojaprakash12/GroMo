{
 "cells": [
  {
   "cell_type": "code",
   "execution_count": 12,
   "id": "3a4ae50d",
   "metadata": {},
   "outputs": [],
   "source": [
    "import pandas as pd\n",
    "from sklearn.linear_model import LogisticRegression\n",
    "from sklearn.model_selection import train_test_split\n",
    "from sklearn.metrics import precision_score\n"
   ]
  },
  {
   "cell_type": "code",
   "execution_count": 10,
   "id": "27464b5f",
   "metadata": {},
   "outputs": [
    {
     "name": "stdout",
     "output_type": "stream",
     "text": [
      "Precision 1.0\n"
     ]
    }
   ],
   "source": [
    "data = {\n",
    "    'age' : [25, 40, 33, 22, 45, 60, 18, 30],\n",
    "    'days_until_appointment' : [1, 7, 3, 0, 5, 2, 4, 6],\n",
    "    'received_remainder' : [1, 0, 1, 1, 0, 1, 0, 1],\n",
    "    'previous_no_shows' : [0, 2, 1, 0, 3, 0, 1, 1],\n",
    "    'will_show_up' : [1, 0, 1, 1, 0, 1, 0, 1]\n",
    "}\n",
    "\n",
    "df = pd.DataFrame(data)\n",
    "\n",
    "X = df[['age', 'days_until_appointment', 'received_remainder', 'previous_no_shows']]\n",
    "y = df['will_show_up']\n",
    "\n",
    "X_train, X_test, y_train, y_test = train_test_split(X, y, test_size = 0.3, random_state = 42)\n",
    "\n",
    "model = LogisticRegression()\n",
    "model.fit(X_train, y_train)\n",
    "\n",
    "y_pred = model.predict(X_test)\n",
    "\n",
    "precision = precision_score(y_test, y_pred)\n",
    "print(\"Precision\", precision)"
   ]
  }
 ],
 "metadata": {
  "kernelspec": {
   "display_name": "ml_env",
   "language": "python",
   "name": "python3"
  },
  "language_info": {
   "codemirror_mode": {
    "name": "ipython",
    "version": 3
   },
   "file_extension": ".py",
   "mimetype": "text/x-python",
   "name": "python",
   "nbconvert_exporter": "python",
   "pygments_lexer": "ipython3",
   "version": "3.10.11"
  }
 },
 "nbformat": 4,
 "nbformat_minor": 5
}
