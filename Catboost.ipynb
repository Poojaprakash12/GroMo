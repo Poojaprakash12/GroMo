{
 "cells": [
  {
   "cell_type": "code",
   "execution_count": 4,
   "id": "1576f1a6",
   "metadata": {},
   "outputs": [],
   "source": [
    "import pandas as pd\n",
    "from catboost import CatBoostClassifier, Pool\n",
    "from sklearn.model_selection import train_test_split\n",
    "from sklearn.metrics import accuracy_score\n",
    "from sklearn.metrics import accuracy_score, precision_score, recall_score, f1_score, confusion_matrix, classification_report\n",
    "import seaborn as sns\n",
    "import matplotlib.pyplot as plt\n"
   ]
  },
  {
   "cell_type": "code",
   "execution_count": 5,
   "id": "e6712a06",
   "metadata": {},
   "outputs": [
    {
     "name": "stdout",
     "output_type": "stream",
     "text": [
      "Model Accuracy: 0.90\n",
      "ProductBought\n",
      "Loan               28\n",
      "Credit Card        24\n",
      "Savings Account    14\n",
      "Insurance          10\n",
      "Digital Wallet     10\n",
      "Mutual Fund        10\n",
      "Name: count, dtype: int64\n",
      "Accuracy: 0.9\n",
      "Precision: 0.9400000000000001\n",
      "Recall: 0.9\n",
      "F1 Score: 0.8958333333333333\n"
     ]
    }
   ],
   "source": [
    "df = pd.read_csv(\"extended_customer_prediction_data.csv\")\n",
    "\n",
    "X = df.drop(columns = ['Name', 'ProductBought'])\n",
    "y = df['ProductBought']\n",
    "\n",
    "categorical_features = ['Region', 'Language', 'Profession', 'OwnsSmartphone', 'MaritalStatus']\n",
    "\n",
    "X_train, X_test, y_train, y_test = train_test_split(X, y, test_size = 0.2, random_state = 42)\n",
    "\n",
    "train_pool = Pool(X_train, y_train, cat_features = categorical_features)\n",
    "test_pool = Pool(X_test, y_test, cat_features = categorical_features)\n",
    "\n",
    "model = CatBoostClassifier(iterations = 300, depth = 10, learning_rate = 0.05, verbose = 0)\n",
    "model.fit(train_pool)\n",
    "\n",
    "y_pred = model.predict(test_pool)\n",
    "\n",
    "\n",
    "model.save_model(\"catboost_model.cbm\")\n",
    "\n",
    "\n",
    "\n",
    "accuracy = accuracy_score(y_test, y_pred)\n",
    "print(f\"Model Accuracy: {accuracy:.2f}\")\n",
    "print(df['ProductBought'].value_counts())\n",
    "\n",
    "print(\"Accuracy:\", accuracy_score(y_test, y_pred))\n",
    "print(\"Precision:\", precision_score(y_test, y_pred, average='weighted'))\n",
    "print(\"Recall:\", recall_score(y_test, y_pred, average='weighted'))\n",
    "print(\"F1 Score:\", f1_score(y_test, y_pred, average='weighted'))\n",
    "\n",
    "\n",
    "\n"
   ]
  },
  {
   "cell_type": "code",
   "execution_count": 19,
   "id": "a813adc9",
   "metadata": {},
   "outputs": [
    {
     "name": "stdout",
     "output_type": "stream",
     "text": [
      "Enter customer details:\n",
      "\n"
     ]
    },
    {
     "name": "stdout",
     "output_type": "stream",
     "text": [
      "\n",
      "🎯 Recommended Product: Credit Card\n"
     ]
    }
   ],
   "source": [
    "import pandas as pd\n",
    "from catboost import CatBoostClassifier, Pool\n",
    "\n",
    "# Define categorical columns based on your dataset\n",
    "cat_features = [\n",
    "    \"Name\", \"Region\", \"Language\", \"Profession\",\n",
    "    \"OwnsSmartphone\", \"MaritalStatus\"\n",
    "]\n",
    "\n",
    "# Load trained model\n",
    "model = CatBoostClassifier()\n",
    "model.load_model(\"catboost_model.cbm\")\n",
    "\n",
    "# Get user input\n",
    "print(\"Enter customer details:\\n\")\n",
    "\n",
    "name = input(\"Name: \")\n",
    "region = input(\"Region (Village/City/Metro): \")\n",
    "language = input(\"Language (Hindi/English/Kannada/Tamil): \")\n",
    "profession = input(\"Profession (Student/Businessman/Shopkeeper/Teacher/Farmer): \")\n",
    "income_str = input(\"Monthly Income (e.g., 85000): \")\n",
    "age_str = input(\"Age (e.g., 45): \")\n",
    "owns_smartphone = input(\"Owns Smartphone? (Yes/No): \")\n",
    "internet_hours_str = input(\"Internet Usage Hours per day (e.g., 3): \")\n",
    "marital_status = input(\"Marital Status (Single/Married): \")\n",
    "\n",
    "# Convert numeric fields safely\n",
    "try:\n",
    "    income = float(income_str)\n",
    "    age = int(age_str)\n",
    "    internet_hours = float(internet_hours_str)\n",
    "except ValueError:\n",
    "    print(\"⚠️ Please enter valid numeric values for income, age, and internet usage hours.\")\n",
    "    exit()\n",
    "\n",
    "# Prepare DataFrame for prediction\n",
    "customer_data = pd.DataFrame([{\n",
    "    \"Name\": name,\n",
    "    \"Region\": region,\n",
    "    \"Language\": language,\n",
    "    \"Profession\": profession,\n",
    "    \"Income\": income,\n",
    "    \"Age\": age,\n",
    "    \"OwnsSmartphone\": owns_smartphone,\n",
    "    \"InternetUsageHours\": internet_hours,\n",
    "    \"MaritalStatus\": marital_status\n",
    "}])\n",
    "\n",
    "# Create a Pool for CatBoost\n",
    "input_pool = Pool(customer_data, cat_features=cat_features)\n",
    "\n",
    "# Predict\n",
    "prediction = model.predict(input_pool)\n",
    "print(f\"\\n🎯 Recommended Product: {prediction[0][0]}\")"
   ]
  },
  {
   "cell_type": "code",
   "execution_count": 21,
   "id": "09e15427",
   "metadata": {},
   "outputs": [
    {
     "name": "stdout",
     "output_type": "stream",
     "text": [
      "\n",
      "🎯 Predicted Product: Credit Card\n",
      "\n",
      "📦 Other digital products often bought together:\n",
      "- Loan\n",
      "- Savings Account\n",
      "- Demat Account\n"
     ]
    }
   ],
   "source": [
    "import pandas as pd\n",
    "import ast\n",
    "\n",
    "# For testing, set predicted_product manually\n",
    "predicted_product = str(prediction[0][0]).strip()\n",
    "\n",
    "\n",
    "csv_path = \"product_relation_dataset.csv\"\n",
    "\n",
    "# Load CSV with headers\n",
    "csv_df = pd.read_csv(csv_path)\n",
    "\n",
    "# Strip whitespaces in MainProduct column to avoid mismatch\n",
    "csv_df['MainProduct'] = csv_df['MainProduct'].str.strip()\n",
    "\n",
    "# Print loaded CSV for debug (remove/comment this after debugging)\n",
    "# print(\"CSV Data:\")\n",
    "# print(csv_df)\n",
    "\n",
    "# Find matching row\n",
    "match_row = csv_df[csv_df['MainProduct'].str.lower() == predicted_product.lower()]\n",
    "\n",
    "if not match_row.empty:\n",
    "    # Safely convert string list to Python list\n",
    "    related_products = ast.literal_eval(match_row.iloc[0]['AdditionalProducts'])\n",
    "    print(f\"\\n🎯 Predicted Product: {predicted_product}\")\n",
    "    print(\"\\n📦 Other digital products often bought together:\")\n",
    "    for product in related_products:\n",
    "        print(\"-\", product)\n",
    "else:\n",
    "    print(f\"\\n⚠️ No related products found for '{predicted_product}'. Check spelling and CSV content.\")\n"
   ]
  }
 ],
 "metadata": {
  "kernelspec": {
   "display_name": "ml_env",
   "language": "python",
   "name": "python3"
  },
  "language_info": {
   "codemirror_mode": {
    "name": "ipython",
    "version": 3
   },
   "file_extension": ".py",
   "mimetype": "text/x-python",
   "name": "python",
   "nbconvert_exporter": "python",
   "pygments_lexer": "ipython3",
   "version": "3.10.11"
  }
 },
 "nbformat": 4,
 "nbformat_minor": 5
}
